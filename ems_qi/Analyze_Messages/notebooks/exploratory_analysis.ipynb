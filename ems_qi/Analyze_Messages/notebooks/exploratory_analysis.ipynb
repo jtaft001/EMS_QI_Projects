{
 "cells": [
  {
   "metadata": {
    "ExecuteTime": {
     "end_time": "2025-06-25T20:04:01.078487Z",
     "start_time": "2025-06-25T20:03:59.829858Z"
    }
   },
   "cell_type": "code",
   "source": [
    "import pandas as pd\n",
    "\n",
    "# Load CSV\n",
    "file_path = \"/mnt/nasdrive/shared/raw_data/ImageTrend Emails/__2025_06_25_115054.csv\"\n",
    "df = pd.read_csv(file_path, dtype=str, engine='python', on_bad_lines='skip')  # Load all as string initially for safety\n",
    "\n",
    "# Normalize column names: strip, lowercase, replace spaces and dots\n",
    "df.columns = df.columns.str.strip().str.lower().str.replace('.', '_').str.replace(' ', '_')\n",
    "\n",
    "# Trim whitespace from string columns\n",
    "for col in df.select_dtypes(include='object').columns:\n",
    "    df[col] = df[col].str.strip()\n",
    "\n",
    "# Preview loaded data\n",
    "print(\"Columns loaded:\", df.columns.tolist())\n",
    "print(\"Data sample:\")\n",
    "print(df.head())"
   ],
   "id": "f6313c3d0e59466d",
   "outputs": [
    {
     "name": "stdout",
     "output_type": "stream",
     "text": [
      "Columns loaded: ['message_sent_date_time', 'response_ems_response_number_(eresponse_04)', 'message_recipient_list', 'message_sender_full_name', 'message_in_reply_to_subject', 'message_subject', 'message_text', 'message_type_description']\n",
      "Data sample:\n",
      "  message_sent_date_time response_ems_response_number_(eresponse_04)  \\\n",
      "0    1/8/2025 1:57:16 AM                                      25-944   \n",
      "1    1/8/2025 1:57:41 AM                                      25-944   \n",
      "2    1/8/2025 3:01:01 AM                                      25-973   \n",
      "3   1/15/2025 7:18:53 PM                                     25-1067   \n",
      "4   1/16/2025 8:16:24 PM                                     25-2151   \n",
      "\n",
      "                           message_recipient_list message_sender_full_name  \\\n",
      "0  Matthew Hennig, Jonathan Taft, Garth McChesney            Jonathan Taft   \n",
      "1                   Jonathan Taft, Matthew Hennig            Jonathan Taft   \n",
      "2         Tallon Joyce, Brian Rafe, Jonathan Taft            Jonathan Taft   \n",
      "3   Jheri L Potts, Jonathan Taft, Raymond Jackson            Jonathan Taft   \n",
      "4                    Jonathan Taft, Robert Sutton            Robert Sutton   \n",
      "\n",
      "  message_in_reply_to_subject message_subject  \\\n",
      "0                     (blank)       QA Review   \n",
      "1                     (blank)       CQI Alert   \n",
      "2                     (blank)           R.O.C   \n",
      "3                     (blank)   Documentation   \n",
      "4                     (blank)   Look at times   \n",
      "\n",
      "                                        message_text message_type_description  \n",
      "0  See QA review inside of incident.  Need you to...                  (blank)  \n",
      "1     The included incident requires your attention.                    Other  \n",
      "2  The R.O.C looks really good, but it looks like...            Documentation  \n",
      "3  Good morning, <br /><br />I have sent this rep...            Documentation  \n",
      "4                                 Dest times updated                  (blank)  \n"
     ]
    }
   ],
   "execution_count": 1
  },
  {
   "metadata": {
    "ExecuteTime": {
     "end_time": "2025-06-25T20:04:04.333951Z",
     "start_time": "2025-06-25T20:04:04.287907Z"
    }
   },
   "cell_type": "code",
   "source": [
    "import pandas as pd\n",
    "\n",
    "file_path = \"/mnt/nasdrive/shared/raw_data/ImageTrend Emails/__2025_06_25_115054.csv\"\n",
    "df = pd.read_csv(file_path, dtype=str, engine='python', on_bad_lines='skip')  # Load all as string initially for safety\n",
    "\n",
    "# Normalize columns\n",
    "df.columns = df.columns.str.strip().str.lower().str.replace('.', '_').str.replace(' ', '_')\n",
    "\n",
    "# Convert message sent date/time to datetime\n",
    "df['message_sent_date_time'] = pd.to_datetime(df['message_sent_date_time'], errors='coerce')\n",
    "\n",
    "# Extract year-month period for grouping\n",
    "df['month'] = df['message_sent_date_time'].dt.to_period('M')"
   ],
   "id": "3527e64aca5cdbdc",
   "outputs": [],
   "execution_count": 2
  },
  {
   "metadata": {
    "ExecuteTime": {
     "end_time": "2025-06-25T20:04:07.567969Z",
     "start_time": "2025-06-25T20:04:07.323954Z"
    }
   },
   "cell_type": "code",
   "source": [
    "# Define keywords for categories - customize this list based on your typical emails\n",
    "issue_categories = {\n",
    "    'qa_review': ['qa review'],\n",
    "    'cqi_alert': ['cqi alert'],\n",
    "    'documentation': ['documentation', 'doc error', 'missing'],\n",
    "    'refusal': ['refusal'],\n",
    "    'times': ['time', 'times', 'delay'],\n",
    "    'procedures': ['procedure', 'airway', 'medication', 'meds'],\n",
    "    'narrative': ['narrative', 'report', 'notes'],\n",
    "    'controlled_substances': ['controlled substance', 'drug', 'narcotic']\n",
    "}\n",
    "\n",
    "# Initialize columns for categories\n",
    "for category in issue_categories:\n",
    "    df[category] = 0\n",
    "\n",
    "# Lowercase subject and message text for searching\n",
    "df['message_subject_lower'] = df['message_subject'].fillna('').str.lower()\n",
    "df['message_text_lower'] = df['message_text'].fillna('').str.lower()\n",
    "\n",
    "# Flag messages containing any keyword from each category in either subject or text\n",
    "for category, keywords in issue_categories.items():\n",
    "    df[category] = df.apply(\n",
    "        lambda row: any(k in row['message_subject_lower'] or k in row['message_text_lower'] for k in keywords),\n",
    "        axis=1\n",
    "    )\n",
    "\n",
    "# Aggregate counts by month and issue category\n",
    "summary = df.groupby('month')[list(issue_categories.keys())].sum().reset_index()\n",
    "\n",
    "print(summary)"
   ],
   "id": "561dc5491c57fad6",
   "outputs": [
    {
     "name": "stdout",
     "output_type": "stream",
     "text": [
      "     month  qa_review  cqi_alert  documentation  refusal  times  procedures  \\\n",
      "0  2025-01          1         23             13        0      7           3   \n",
      "1  2025-02          0         26            155        7     18          23   \n",
      "2  2025-03          0         22            187       11     29          28   \n",
      "3  2025-04          0          3             80        3      5          13   \n",
      "4  2025-05          0         51             66       15     11          22   \n",
      "5  2025-06          0         22             10        3      9           5   \n",
      "\n",
      "   narrative  controlled_substances  \n",
      "0         11                      0  \n",
      "1         81                      0  \n",
      "2        129                      1  \n",
      "3        105                      0  \n",
      "4        137                      0  \n",
      "5         56                      0  \n"
     ]
    }
   ],
   "execution_count": 3
  },
  {
   "metadata": {
    "ExecuteTime": {
     "end_time": "2025-06-25T20:04:11.709064Z",
     "start_time": "2025-06-25T20:04:10.722430Z"
    }
   },
   "cell_type": "code",
   "source": [
    "import pandas as pd\n",
    "from sklearn.feature_extraction.text import TfidfVectorizer\n",
    "from sklearn.decomposition import NMF\n",
    "\n",
    "# Assuming df is your original DataFrame loaded and cleaned\n",
    "\n",
    "# Normalize subjects for threading (if not done)\n",
    "df['subject_normalized'] = df['message_subject'].fillna('').str.strip().str.lower()\n",
    "df['in_reply_to_normalized'] = df['message_in_reply_to_subject'].fillna('').str.strip().str.lower()\n",
    "df['thread_subject'] = df.apply(\n",
    "    lambda row: row['in_reply_to_normalized'] if row['in_reply_to_normalized'] not in ['', '(blank)'] else row['subject_normalized'],\n",
    "    axis=1\n",
    ")\n",
    "\n",
    "# Combine all messages text per thread + EMS response number\n",
    "df_threaded = df.groupby(['thread_subject', 'response_ems_response_number_(eresponse_04)']).agg({\n",
    "    'message_text': lambda texts: ' '.join(texts.fillna('')),\n",
    "    'documentation': 'max',\n",
    "    'narrative': 'max'\n",
    "}).reset_index()\n",
    "\n",
    "# Filter for threads flagged as documentation or narrative issues\n",
    "flagged_threads = df_threaded[(df_threaded['documentation'] == 1) | (df_threaded['narrative'] == 1)]\n",
    "\n",
    "print(f\"Number of flagged threads: {len(flagged_threads)}\")"
   ],
   "id": "eff8fe0fdd4f3420",
   "outputs": [
    {
     "name": "stdout",
     "output_type": "stream",
     "text": [
      "Number of flagged threads: 597\n"
     ]
    }
   ],
   "execution_count": 4
  },
  {
   "metadata": {
    "ExecuteTime": {
     "end_time": "2025-06-25T20:04:37.356364Z",
     "start_time": "2025-06-25T20:04:37.198208Z"
    }
   },
   "cell_type": "code",
   "source": [
    "# Vectorize combined message text\n",
    "vectorizer = TfidfVectorizer(stop_words='english', max_features=1000)\n",
    "tfidf_matrix = vectorizer.fit_transform(flagged_threads['message_text'])\n",
    "\n",
    "# Apply NMF for topic modeling\n",
    "num_topics = 5  # You can adjust this\n",
    "nmf_model = NMF(n_components=num_topics, random_state=42)\n",
    "nmf_model.fit(tfidf_matrix)\n",
    "\n",
    "# Function to display top words per topic\n",
    "def display_topics(model, feature_names, n_top_words):\n",
    "    topics = []\n",
    "    for topic_idx, topic in enumerate(model.components_):\n",
    "        top_words = [feature_names[i] for i in topic.argsort()[:-n_top_words - 1:-1]]\n",
    "        topics.append(top_words)\n",
    "        print(f\"Topic {topic_idx + 1}: {', '.join(top_words)}\")\n",
    "    return topics\n",
    "\n",
    "topics = display_topics(nmf_model, vectorizer.get_feature_names_out(), 10)"
   ],
   "id": "9a43273230343174",
   "outputs": [
    {
     "name": "stdout",
     "output_type": "stream",
     "text": [
      "Topic 1: br, jonathan, sent, narrative, 2025, subject, hr, taft, foster, diane\n",
      "Topic 2: br, edits, complete, lock, status, making, change, good, report, lindsey\n",
      "Topic 3: missing, crew, signatures, signature, member, 2nd, personnel, unit, update, paramedic\n",
      "Topic 4: mileage, incomplete, update, mile, lee, wendy, missing, march, 13, updated\n",
      "Topic 5: certs, flight, missing, handle, aaron, mathrole, emails, 17, signature, issues\n"
     ]
    }
   ],
   "execution_count": 5
  }
 ],
 "metadata": {
  "kernelspec": {
   "name": "quality",
   "language": "python",
   "display_name": "Python (quality)"
  }
 },
 "nbformat": 4,
 "nbformat_minor": 5
}
