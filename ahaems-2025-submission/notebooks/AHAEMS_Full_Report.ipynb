{
 "cells": [
  {
   "metadata": {
    "ExecuteTime": {
     "end_time": "2025-06-09T19:44:24.023145Z",
     "start_time": "2025-06-09T19:44:23.867560Z"
    }
   },
   "cell_type": "code",
   "source": [
    "import os\n",
    "print(\"📂 Current working directory:\", os.getcwd())\n",
    "print(\"🧠 Running AHA EMS Quality Measures...\\n\")\n",
    "\n",
    "%run \"EMS_QI_Projects/ahaems-2025-submission/notebooks/AHAEMS1_Measure.ipynb\"\n",
    "%run \"EMS_QI_Projects/ahaems-2025-submission/notebooks/AHAEMS2_Measure.ipynb\"\n",
    "%run \"EMS_QI_Projects/ahaems-2025-submission/notebooks/AHAEMS3_Measure.ipynb\"\n",
    "%run \"EMS_QI_Projects/ahaems-2025-submission/notebooks/AHAEMS4_Measure.ipynb\"\n",
    "%run \"EMS_QI_Projects/ahaems-2025-submission/notebooks/AHAEMS5_Measure.ipynb\"\n",
    "%run \"EMS_QI_Projects/ahaems-2025-submission/notebooks/AHAEMS6_Measure.ipynb\"\n",
    "%run \"EMS_QI_Projects/ahaems-2025-submission/notebooks/AHAEMS7_Measure.ipynb\""
   ],
   "id": "31adb8152cd5508c",
   "outputs": [
    {
     "name": "stdout",
     "output_type": "stream",
     "text": [
      "📂 Current working directory: /home/jovyan\n",
      "🧠 Running AHA EMS Quality Measures...\n",
      "\n"
     ]
    },
    {
     "ename": "Exception",
     "evalue": "File `'EMS_QI_Projects/ahaems-2025-submission/notebooks/AHAEMS1_Measure.ipynb'` not found.",
     "output_type": "error",
     "traceback": [
      "\u001B[31m---------------------------------------------------------------------------\u001B[39m",
      "\u001B[31mOSError\u001B[39m                                   Traceback (most recent call last)",
      "\u001B[36mFile \u001B[39m\u001B[32m~/.venvs/ahaems/lib/python3.11/site-packages/IPython/core/magics/execution.py:727\u001B[39m, in \u001B[36mExecutionMagics.run\u001B[39m\u001B[34m(self, parameter_s, runner, file_finder)\u001B[39m\n\u001B[32m    726\u001B[39m     fpath = arg_lst[\u001B[32m0\u001B[39m]\n\u001B[32m--> \u001B[39m\u001B[32m727\u001B[39m     filename = \u001B[43mfile_finder\u001B[49m\u001B[43m(\u001B[49m\u001B[43mfpath\u001B[49m\u001B[43m)\u001B[49m\n\u001B[32m    728\u001B[39m \u001B[38;5;28;01mexcept\u001B[39;00m \u001B[38;5;167;01mIndexError\u001B[39;00m \u001B[38;5;28;01mas\u001B[39;00m e:\n",
      "\u001B[36mFile \u001B[39m\u001B[32m~/.venvs/ahaems/lib/python3.11/site-packages/IPython/utils/path.py:90\u001B[39m, in \u001B[36mget_py_filename\u001B[39m\u001B[34m(name)\u001B[39m\n\u001B[32m     89\u001B[39m         \u001B[38;5;28;01mreturn\u001B[39;00m py_name\n\u001B[32m---> \u001B[39m\u001B[32m90\u001B[39m \u001B[38;5;28;01mraise\u001B[39;00m \u001B[38;5;167;01mIOError\u001B[39;00m(\u001B[33m\"\u001B[39m\u001B[33mFile `\u001B[39m\u001B[38;5;132;01m%r\u001B[39;00m\u001B[33m` not found.\u001B[39m\u001B[33m\"\u001B[39m % name)\n",
      "\u001B[31mOSError\u001B[39m: File `'EMS_QI_Projects/ahaems-2025-submission/notebooks/AHAEMS1_Measure.ipynb'` not found.",
      "\nThe above exception was the direct cause of the following exception:\n",
      "\u001B[31mException\u001B[39m                                 Traceback (most recent call last)",
      "\u001B[36mCell\u001B[39m\u001B[36m \u001B[39m\u001B[32mIn[2]\u001B[39m\u001B[32m, line 5\u001B[39m\n\u001B[32m      2\u001B[39m \u001B[38;5;28mprint\u001B[39m(\u001B[33m\"\u001B[39m\u001B[33m📂 Current working directory:\u001B[39m\u001B[33m\"\u001B[39m, os.getcwd())\n\u001B[32m      3\u001B[39m \u001B[38;5;28mprint\u001B[39m(\u001B[33m\"\u001B[39m\u001B[33m🧠 Running AHA EMS Quality Measures...\u001B[39m\u001B[38;5;130;01m\\n\u001B[39;00m\u001B[33m\"\u001B[39m)\n\u001B[32m----> \u001B[39m\u001B[32m5\u001B[39m \u001B[43mget_ipython\u001B[49m\u001B[43m(\u001B[49m\u001B[43m)\u001B[49m\u001B[43m.\u001B[49m\u001B[43mrun_line_magic\u001B[49m\u001B[43m(\u001B[49m\u001B[33;43m'\u001B[39;49m\u001B[33;43mrun\u001B[39;49m\u001B[33;43m'\u001B[39;49m\u001B[43m,\u001B[49m\u001B[43m \u001B[49m\u001B[33;43m'\u001B[39;49m\u001B[33;43m\"\u001B[39;49m\u001B[33;43mEMS_QI_Projects/ahaems-2025-submission/notebooks/AHAEMS1_Measure.ipynb\u001B[39;49m\u001B[33;43m\"\u001B[39;49m\u001B[33;43m'\u001B[39;49m\u001B[43m)\u001B[49m\n\u001B[32m      6\u001B[39m get_ipython().run_line_magic(\u001B[33m'\u001B[39m\u001B[33mrun\u001B[39m\u001B[33m'\u001B[39m, \u001B[33m'\u001B[39m\u001B[33m\"\u001B[39m\u001B[33mEMS_QI_Projects/ahaems-2025-submission/notebooks/AHAEMS2_Measure.ipynb\u001B[39m\u001B[33m\"\u001B[39m\u001B[33m'\u001B[39m)\n\u001B[32m      7\u001B[39m get_ipython().run_line_magic(\u001B[33m'\u001B[39m\u001B[33mrun\u001B[39m\u001B[33m'\u001B[39m, \u001B[33m'\u001B[39m\u001B[33m\"\u001B[39m\u001B[33mEMS_QI_Projects/ahaems-2025-submission/notebooks/AHAEMS3_Measure.ipynb\u001B[39m\u001B[33m\"\u001B[39m\u001B[33m'\u001B[39m)\n",
      "\u001B[36mFile \u001B[39m\u001B[32m~/.venvs/ahaems/lib/python3.11/site-packages/IPython/core/interactiveshell.py:2488\u001B[39m, in \u001B[36mInteractiveShell.run_line_magic\u001B[39m\u001B[34m(self, magic_name, line, _stack_depth)\u001B[39m\n\u001B[32m   2486\u001B[39m     kwargs[\u001B[33m'\u001B[39m\u001B[33mlocal_ns\u001B[39m\u001B[33m'\u001B[39m] = \u001B[38;5;28mself\u001B[39m.get_local_scope(stack_depth)\n\u001B[32m   2487\u001B[39m \u001B[38;5;28;01mwith\u001B[39;00m \u001B[38;5;28mself\u001B[39m.builtin_trap:\n\u001B[32m-> \u001B[39m\u001B[32m2488\u001B[39m     result = \u001B[43mfn\u001B[49m\u001B[43m(\u001B[49m\u001B[43m*\u001B[49m\u001B[43margs\u001B[49m\u001B[43m,\u001B[49m\u001B[43m \u001B[49m\u001B[43m*\u001B[49m\u001B[43m*\u001B[49m\u001B[43mkwargs\u001B[49m\u001B[43m)\u001B[49m\n\u001B[32m   2490\u001B[39m \u001B[38;5;66;03m# The code below prevents the output from being displayed\u001B[39;00m\n\u001B[32m   2491\u001B[39m \u001B[38;5;66;03m# when using magics with decorator @output_can_be_silenced\u001B[39;00m\n\u001B[32m   2492\u001B[39m \u001B[38;5;66;03m# when the last Python token in the expression is a ';'.\u001B[39;00m\n\u001B[32m   2493\u001B[39m \u001B[38;5;28;01mif\u001B[39;00m \u001B[38;5;28mgetattr\u001B[39m(fn, magic.MAGIC_OUTPUT_CAN_BE_SILENCED, \u001B[38;5;28;01mFalse\u001B[39;00m):\n",
      "\u001B[36mFile \u001B[39m\u001B[32m~/.venvs/ahaems/lib/python3.11/site-packages/IPython/core/magics/execution.py:738\u001B[39m, in \u001B[36mExecutionMagics.run\u001B[39m\u001B[34m(self, parameter_s, runner, file_finder)\u001B[39m\n\u001B[32m    736\u001B[39m     \u001B[38;5;28;01mif\u001B[39;00m os.name == \u001B[33m'\u001B[39m\u001B[33mnt\u001B[39m\u001B[33m'\u001B[39m \u001B[38;5;129;01mand\u001B[39;00m re.match(\u001B[33mr\u001B[39m\u001B[33m\"\u001B[39m\u001B[33m^\u001B[39m\u001B[33m'\u001B[39m\u001B[33m.*\u001B[39m\u001B[33m'\u001B[39m\u001B[33m$\u001B[39m\u001B[33m\"\u001B[39m,fpath):\n\u001B[32m    737\u001B[39m         warn(\u001B[33m'\u001B[39m\u001B[33mFor Windows, use double quotes to wrap a filename: \u001B[39m\u001B[38;5;132;01m%r\u001B[39;00m\u001B[33mun \u001B[39m\u001B[33m\"\u001B[39m\u001B[33mmypath\u001B[39m\u001B[38;5;130;01m\\\\\u001B[39;00m\u001B[33mmyfile.py\u001B[39m\u001B[33m\"\u001B[39m\u001B[33m'\u001B[39m)\n\u001B[32m--> \u001B[39m\u001B[32m738\u001B[39m     \u001B[38;5;28;01mraise\u001B[39;00m \u001B[38;5;167;01mException\u001B[39;00m(msg) \u001B[38;5;28;01mfrom\u001B[39;00m\u001B[38;5;250m \u001B[39m\u001B[34;01me\u001B[39;00m\n\u001B[32m    739\u001B[39m \u001B[38;5;28;01mexcept\u001B[39;00m \u001B[38;5;167;01mTypeError\u001B[39;00m:\n\u001B[32m    740\u001B[39m     \u001B[38;5;28;01mif\u001B[39;00m fpath \u001B[38;5;129;01min\u001B[39;00m sys.meta_path:\n",
      "\u001B[31mException\u001B[39m: File `'EMS_QI_Projects/ahaems-2025-submission/notebooks/AHAEMS1_Measure.ipynb'` not found."
     ]
    }
   ],
   "execution_count": 2
  },
  {
   "metadata": {},
   "cell_type": "code",
   "outputs": [],
   "execution_count": null,
   "source": "",
   "id": "7666d7f90ea2d152"
  }
 ],
 "metadata": {
  "kernelspec": {
   "display_name": "Python (Quality)",
   "language": "python",
   "name": "quality"
  },
  "language_info": {
   "codemirror_mode": {
    "name": "ipython",
    "version": 2
   },
   "file_extension": ".py",
   "mimetype": "text/x-python",
   "name": "python",
   "nbconvert_exporter": "python",
   "pygments_lexer": "ipython2",
   "version": "2.7.6"
  }
 },
 "nbformat": 4,
 "nbformat_minor": 5
}
