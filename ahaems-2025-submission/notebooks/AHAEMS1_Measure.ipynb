{
 "cells": [
  {
   "metadata": {
    "ExecuteTime": {
     "end_time": "2025-06-18T04:53:39.295702Z",
     "start_time": "2025-06-18T04:53:39.166067Z"
    }
   },
   "cell_type": "code",
   "source": [
    "# === Restart Kernel First ===\n",
    "# Ensure a clean environment\n",
    "\n",
    "import os\n",
    "import sys\n",
    "import pandas as pd\n",
    "from pathlib import Path\n",
    "from IPython.display import display\n",
    "from dotenv import load_dotenv\n",
    "\n",
    "# === Correct project root on server ===\n",
    "project_root = Path(\"/mnt/nasdrive/jupyter/EMS_QI_Projects/ahaems-2025-submission\")\n",
    "\n",
    "# Add project directory to sys.path if needed\n",
    "if str(project_root) not in sys.path:\n",
    "    sys.path.append(str(project_root))\n",
    "\n",
    "# Debug: confirm config.py exists\n",
    "print(\"🔍 config.py exists:\", (project_root / \"config.py\").exists())\n",
    "\n",
    "# Load .env from the correct location\n",
    "load_dotenv(dotenv_path=project_root / \".env\")\n",
    "\n",
    "# Now import\n",
    "from config import load_cleaned_data\n",
    "\n",
    "# Load Data\n",
    "df = load_cleaned_data()\n",
    "\n",
    "# Preview\n",
    "display(df.head())\n",
    "\n",
    "\n",
    "# === Rename for internal use ===\n",
    "df = df.rename(columns={\n",
    "    \"UniqueIncidentKey\": \"incident_id\",\n",
    "    \"Patient Age (ePatient.15)\": \"age\",\n",
    "    \"Patient Age Units (ePatient.16)\": \"age_units\",\n",
    "    \"Primary Impression\": \"primary_impression\",\n",
    "    \"Secondary Impression\": \"secondary_impression\",\n",
    "    \"Transport Disposition\": \"transport_disposition\",\n",
    "    \"Stroke Alert\": \"stroke_alert\",\n",
    "    \"Situation Last Known Well Date Time (eSituation.18)\": \"lkw_time\",\n",
    "    \"Situation Symptom Onset Date Time (eSituation.01)\": \"onset_time\",\n",
    "    \"Vitals Signs Taken Date Time (eVitals.01)\": \"vitals_time\",\n",
    "    \"Cardiac Arrest During EMS Event With Code (eArrest.01)\": \"cardiac_arrest\",\n",
    "    \"Disposition Final Patient Acuity Code (eDisposition.19)\": \"final_acuity\",\n",
    "    \"Response Type Of Service Requested With Code (eResponse.05)\": \"response_type\"\n",
    "})\n",
    "\n",
    "# === Convert time columns ===\n",
    "df[\"lkw_time\"] = pd.to_datetime(df[\"lkw_time\"], format=\"%m/%d/%Y %I:%M:%S %p\", errors=\"coerce\")\n",
    "df[\"onset_time\"] = pd.to_datetime(df[\"onset_time\"], format=\"%m/%d/%Y %I:%M:%S %p\", errors=\"coerce\")\n",
    "df[\"vitals_time\"] = pd.to_datetime(df[\"vitals_time\"], format=\"%m/%d/%Y %I:%M:%S %p\", errors=\"coerce\")\n",
    "\n",
    "# === Extract ICDs ===\n",
    "def extract_icd_prefix(text):\n",
    "    if isinstance(text, str):\n",
    "        match = re.search(r\"\\(([A-Z]\\d{2}(?:\\.\\d+)?)\\)\", text.upper())\n",
    "        if match:\n",
    "            return match.group(1)[:3]\n",
    "    return \"\"\n",
    "\n",
    "df[\"primary_icd\"] = df[\"primary_impression\"].apply(extract_icd_prefix)\n",
    "df[\"secondary_icd\"] = df[\"secondary_impression\"].apply(extract_icd_prefix)\n",
    "\n",
    "# === Aggregate by incident ===\n",
    "grouped = df.groupby(\"incident_id\").agg({\n",
    "    \"age\": \"first\",\n",
    "    \"age_units\": \"first\",\n",
    "    \"primary_icd\": \"first\",\n",
    "    \"secondary_icd\": \"first\",\n",
    "    \"transport_disposition\": \"first\",\n",
    "    \"response_type\": \"first\",\n",
    "    \"vitals_time\": \"min\",\n",
    "    \"lkw_time\": \"first\",\n",
    "    \"onset_time\": \"first\",\n",
    "    \"cardiac_arrest\": \"first\",\n",
    "    \"final_acuity\": \"first\",\n",
    "    \"stroke_alert\": lambda x: any(str(val).strip().lower() == \"true\" for val in x)\n",
    "}).reset_index()\n",
    "\n",
    "# === Quarter Extraction ===\n",
    "grouped[\"quarter\"] = grouped[\"vitals_time\"].dt.to_period(\"Q\")\n",
    "\n",
    "# === Logic filters ===\n",
    "grouped[\"age\"] = pd.to_numeric(grouped[\"age\"], errors=\"coerce\")\n",
    "age_valid = grouped[\"age\"] >= 18\n",
    "stroke_icds = [\"I60\", \"I61\", \"I62\", \"I63\", \"G45\", \"G46\"]\n",
    "impression_valid = grouped[\"primary_icd\"].isin(stroke_icds) | grouped[\"secondary_icd\"].isin(stroke_icds)\n",
    "transport_valid = grouped[\"transport_disposition\"].str.contains(\"transport by this ems unit\", case=False, na=False)\n",
    "response_valid = grouped[\"response_type\"].str.contains(\"2205001\", na=False)\n",
    "\n",
    "# === LKW vs onset fallback ===\n",
    "grouped[\"time_reference\"] = grouped[\"lkw_time\"]\n",
    "grouped.loc[grouped[\"time_reference\"].isna(), \"time_reference\"] = grouped[\"onset_time\"]\n",
    "\n",
    "lkw_exclude = (\n",
    "    grouped[\"time_reference\"].notna() & grouped[\"vitals_time\"].notna() &\n",
    "    ((grouped[\"vitals_time\"] - grouped[\"time_reference\"]).dt.total_seconds() >= 86400)\n",
    ")\n",
    "\n",
    "arrest_exclude = grouped[\"cardiac_arrest\"].astype(str).isin([\"3001003\", \"3001005\"])\n",
    "acuity_exclude = grouped[\"final_acuity\"].astype(str) == \"4219909\"\n",
    "\n",
    "grouped[\"in_denominator\"] = (\n",
    "    age_valid & impression_valid & transport_valid & response_valid &\n",
    "    ~lkw_exclude & ~arrest_exclude & ~acuity_exclude\n",
    ")\n",
    "\n",
    "grouped[\"in_numerator\"] = grouped[\"in_denominator\"] & grouped[\"stroke_alert\"]\n",
    "\n",
    "# === Summary ===\n",
    "summary = (\n",
    "    grouped[grouped[\"in_denominator\"]]\n",
    "    .groupby(\"quarter\")\n",
    "    .agg(\n",
    "        AHAEMS1_Denominator=(\"in_denominator\", \"sum\"),\n",
    "        AHAEMS1_Numerator=(\"in_numerator\", \"sum\")\n",
    "    )\n",
    "    .reset_index()\n",
    ")\n",
    "summary[\"AHAEMS1_Percentage\"] = (summary[\"AHAEMS1_Numerator\"] / summary[\"AHAEMS1_Denominator\"] * 100).round(2)\n",
    "\n",
    "\n",
    "display(summary)\n",
    "\n",
    "# === Plot AHA Measure 1 Line Graph ===\n",
    "plt.figure(figsize=(10, 5))\n",
    "plt.plot(summary[\"quarter\"].astype(str), summary[\"AHAEMS1_Percentage\"], marker=\"o\", linestyle=\"-\", label=\"AHAEMS1 %\")\n",
    "plt.title(\"AHA EMS Measure 1 – Stroke Alerts Over Time\")\n",
    "plt.xlabel(\"Quarter\")\n",
    "plt.ylabel(\"Percentage (%)\")\n",
    "plt.ylim(0, 100)\n",
    "plt.grid(True)\n",
    "plt.xticks(rotation=45)\n",
    "plt.legend()\n",
    "plt.tight_layout()\n",
    "\n",
    "# === Export Fallout CSV ===\n",
    "fallouts = grouped[grouped[\"in_denominator\"] & ~grouped[\"in_numerator\"]]\n",
    "fallout_path = FALLOUTS_DIR / \"ahaems1_fallouts.csv\"\n",
    "\n",
    "# Ensure directory exists before writing\n",
    "os.makedirs(fallout_path.parent, exist_ok=True)\n",
    "\n",
    "# Write fallout file\n",
    "fallouts.to_csv(fallout_path, index=False)\n",
    "\n",
    "from project_paths import OUTPUT_DIR\n",
    "\n",
    "# Save the summary chart to output/charts/\n",
    "chart_path = OUTPUT_DIR / \"charts\" / \"ahaems1_chart.png\"\n",
    "os.makedirs(chart_path.parent, exist_ok=True)\n",
    "plt.savefig(chart_path, bbox_inches=\"tight\")"
   ],
   "id": "initial_id",
   "outputs": [
    {
     "name": "stdout",
     "output_type": "stream",
     "text": [
      "🔍 config.py exists: False\n"
     ]
    },
    {
     "ename": "ModuleNotFoundError",
     "evalue": "No module named 'config'",
     "output_type": "error",
     "traceback": [
      "\u001B[31m---------------------------------------------------------------------------\u001B[39m",
      "\u001B[31mModuleNotFoundError\u001B[39m                       Traceback (most recent call last)",
      "\u001B[36mCell\u001B[39m\u001B[36m \u001B[39m\u001B[32mIn[3]\u001B[39m\u001B[32m, line 25\u001B[39m\n\u001B[32m     22\u001B[39m load_dotenv(dotenv_path=project_root / \u001B[33m\"\u001B[39m\u001B[33m.env\u001B[39m\u001B[33m\"\u001B[39m)\n\u001B[32m     24\u001B[39m \u001B[38;5;66;03m# Now import\u001B[39;00m\n\u001B[32m---> \u001B[39m\u001B[32m25\u001B[39m \u001B[38;5;28;01mfrom\u001B[39;00m\u001B[38;5;250m \u001B[39m\u001B[34;01mconfig\u001B[39;00m\u001B[38;5;250m \u001B[39m\u001B[38;5;28;01mimport\u001B[39;00m load_cleaned_data\n\u001B[32m     27\u001B[39m \u001B[38;5;66;03m# Load Data\u001B[39;00m\n\u001B[32m     28\u001B[39m df = load_cleaned_data()\n",
      "\u001B[31mModuleNotFoundError\u001B[39m: No module named 'config'"
     ]
    }
   ],
   "execution_count": 3
  },
  {
   "metadata": {
    "ExecuteTime": {
     "end_time": "2025-06-18T04:52:25.575386Z",
     "start_time": "2025-06-18T04:52:25.569720Z"
    }
   },
   "cell_type": "code",
   "source": [
    "import os\n",
    "project_root = \"/mnt/nasdrive/jupyter/EMS_QI_Projects/ahaems-2025-submission\"\n",
    "print(\"🔍 config.py exists:\", os.path.exists(os.path.join(project_root, \"config.py\")))\n"
   ],
   "id": "993705153eec05bb",
   "outputs": [
    {
     "name": "stdout",
     "output_type": "stream",
     "text": [
      "🔍 config.py exists: False\n"
     ]
    }
   ],
   "execution_count": 2
  },
  {
   "metadata": {
    "ExecuteTime": {
     "end_time": "2025-06-18T04:54:25.445501Z",
     "start_time": "2025-06-18T04:54:25.437827Z"
    }
   },
   "cell_type": "code",
   "source": [
    "import sys\n",
    "from pathlib import Path\n",
    "\n",
    "project_root = Path(\"/mnt/nasdrive/jupyter/EMS_QI_Projects/ahaems-2025-submission\")\n",
    "if str(project_root) not in sys.path:\n",
    "    sys.path.append(str(project_root))\n",
    "\n",
    "print(\"✅ sys.path includes project:\", str(project_root) in sys.path)\n",
    "print(\"🔍 Checking config.py:\", (project_root / \"config.py\").exists())\n",
    "\n",
    "import os\n",
    "print(\"📁 Current working directory:\", os.getcwd())\n"
   ],
   "id": "41bc49cc10feeb97",
   "outputs": [
    {
     "name": "stdout",
     "output_type": "stream",
     "text": [
      "✅ sys.path includes project: True\n",
      "🔍 Checking config.py: False\n",
      "📁 Current working directory: /home/jovyan\n"
     ]
    }
   ],
   "execution_count": 4
  },
  {
   "metadata": {
    "ExecuteTime": {
     "end_time": "2025-06-18T04:54:48.386295Z",
     "start_time": "2025-06-18T04:54:48.091521Z"
    }
   },
   "cell_type": "code",
   "source": "!ls /mnt/nasdrive/jupyter/EMS_QI_Projects/ahaems-2025-submission\n",
   "id": "f88759821a85be60",
   "outputs": [
    {
     "name": "stdout",
     "output_type": "stream",
     "text": [
      "ls: cannot access '/mnt/nasdrive/jupyter/EMS_QI_Projects/ahaems-2025-submission': No such file or directory\r\n"
     ]
    }
   ],
   "execution_count": 5
  },
  {
   "metadata": {},
   "cell_type": "code",
   "outputs": [],
   "execution_count": null,
   "source": "",
   "id": "d914fdd568561048"
  }
 ],
 "metadata": {
  "kernelspec": {
   "display_name": "Python (Quality)",
   "language": "python",
   "name": "quality"
  },
  "language_info": {
   "codemirror_mode": {
    "name": "ipython",
    "version": 2
   },
   "file_extension": ".py",
   "mimetype": "text/x-python",
   "name": "python",
   "nbconvert_exporter": "python",
   "pygments_lexer": "ipython2",
   "version": "2.7.6"
  }
 },
 "nbformat": 4,
 "nbformat_minor": 5
}
