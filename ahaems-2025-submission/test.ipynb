{
 "cells": [
  {
   "metadata": {
    "ExecuteTime": {
     "end_time": "2025-06-18T03:23:06.754954Z",
     "start_time": "2025-06-18T03:23:06.701069Z"
    }
   },
   "cell_type": "code",
   "source": [
    "import os\n",
    "from dotenv import load_dotenv\n",
    "from sqlalchemy import create_engine, text\n",
    "\n",
    "# Load .env file\n",
    "load_dotenv(dotenv_path=os.path.join(os.path.dirname(__file__), \".env\"))\n",
    "print(\"✅ .env loaded:\", True)\n",
    "\n",
    "# DB credentials\n",
    "DB_HOST = os.getenv(\"DB_HOST\")\n",
    "DB_PORT = os.getenv(\"DB_PORT\", \"5432\")\n",
    "DB_USER = os.getenv(\"DB_USER\")\n",
    "DB_PASS = os.getenv(\"DB_PASS\")\n",
    "DB_NAME = os.getenv(\"DB_NAME\")\n",
    "\n",
    "print(\"🔍 DB_HOST:\", DB_HOST)\n",
    "print(\"🔍 DB_PORT:\", DB_PORT)\n",
    "print(\"🔍 DB_USER:\", DB_USER)\n",
    "print(\"🔍 DB_PASS: (hidden)\")\n",
    "print(\"🔍 DB_NAME:\", DB_NAME)\n",
    "\n",
    "# Attempt DB connection\n",
    "try:\n",
    "    engine = create_engine(f\"postgresql://{DB_USER}:{DB_PASS}@{DB_HOST}:{DB_PORT}/{DB_NAME}\")\n",
    "    with engine.connect() as conn:\n",
    "        result = conn.execute(text(\"SELECT version();\"))\n",
    "        version = result.fetchone()\n",
    "        print(\"✅ Connected! PostgreSQL version:\", version[0])\n",
    "except Exception as e:\n",
    "    print(\"❌ Connection failed:\", e)"
   ],
   "id": "2ece820976a215e0",
   "outputs": [
    {
     "ename": "ValueError",
     "evalue": "Missing one or more required DB environment variables.",
     "output_type": "error",
     "traceback": [
      "\u001B[31m---------------------------------------------------------------------------\u001B[39m",
      "\u001B[31mValueError\u001B[39m                                Traceback (most recent call last)",
      "\u001B[36mCell\u001B[39m\u001B[36m \u001B[39m\u001B[32mIn[2]\u001B[39m\u001B[32m, line 12\u001B[39m\n\u001B[32m     10\u001B[39m \u001B[38;5;66;03m# Now import from config\u001B[39;00m\n\u001B[32m     11\u001B[39m \u001B[38;5;28;01mfrom\u001B[39;00m\u001B[38;5;250m \u001B[39m\u001B[34;01mconfig\u001B[39;00m\u001B[38;5;250m \u001B[39m\u001B[38;5;28;01mimport\u001B[39;00m get_engine\n\u001B[32m---> \u001B[39m\u001B[32m12\u001B[39m \u001B[43mget_engine\u001B[49m\u001B[43m(\u001B[49m\u001B[43m)\u001B[49m.connect()  \u001B[38;5;66;03m# test the connection\u001B[39;00m\n",
      "\u001B[36mFile \u001B[39m\u001B[32m~/DataspellProjects/Projects/ahaems-2025-submission/config.py:28\u001B[39m, in \u001B[36mget_engine\u001B[39m\u001B[34m()\u001B[39m\n\u001B[32m     24\u001B[39m \u001B[38;5;250m\u001B[39m\u001B[33;03m\"\"\"\u001B[39;00m\n\u001B[32m     25\u001B[39m \u001B[33;03mCreate a SQLAlchemy engine using credentials from .env\u001B[39;00m\n\u001B[32m     26\u001B[39m \u001B[33;03m\"\"\"\u001B[39;00m\n\u001B[32m     27\u001B[39m \u001B[38;5;28;01mif\u001B[39;00m \u001B[38;5;129;01mnot\u001B[39;00m \u001B[38;5;28mall\u001B[39m([DB_HOST, DB_PORT, DB_USER, DB_PASS, DB_NAME]):\n\u001B[32m---> \u001B[39m\u001B[32m28\u001B[39m     \u001B[38;5;28;01mraise\u001B[39;00m \u001B[38;5;167;01mValueError\u001B[39;00m(\u001B[33m\"\u001B[39m\u001B[33mMissing one or more required DB environment variables.\u001B[39m\u001B[33m\"\u001B[39m)\n\u001B[32m     30\u001B[39m \u001B[38;5;28;01mtry\u001B[39;00m:\n\u001B[32m     31\u001B[39m     \u001B[38;5;28;01mreturn\u001B[39;00m create_engine(\n\u001B[32m     32\u001B[39m         \u001B[33mf\u001B[39m\u001B[33m\"\u001B[39m\u001B[33mpostgresql://\u001B[39m\u001B[38;5;132;01m{\u001B[39;00mDB_USER\u001B[38;5;132;01m}\u001B[39;00m\u001B[33m:\u001B[39m\u001B[38;5;132;01m{\u001B[39;00mDB_PASS\u001B[38;5;132;01m}\u001B[39;00m\u001B[33m@\u001B[39m\u001B[38;5;132;01m{\u001B[39;00mDB_HOST\u001B[38;5;132;01m}\u001B[39;00m\u001B[33m:\u001B[39m\u001B[38;5;132;01m{\u001B[39;00mDB_PORT\u001B[38;5;132;01m}\u001B[39;00m\u001B[33m/\u001B[39m\u001B[38;5;132;01m{\u001B[39;00mDB_NAME\u001B[38;5;132;01m}\u001B[39;00m\u001B[33m\"\u001B[39m\n\u001B[32m     33\u001B[39m     )\n",
      "\u001B[31mValueError\u001B[39m: Missing one or more required DB environment variables."
     ]
    }
   ],
   "execution_count": 2
  },
  {
   "metadata": {},
   "cell_type": "code",
   "outputs": [
    {
     "ename": "ValueError",
     "evalue": "Missing one or more required DB environment variables.",
     "output_type": "error",
     "traceback": [
      "\u001B[31m---------------------------------------------------------------------------\u001B[39m",
      "\u001B[31mValueError\u001B[39m                                Traceback (most recent call last)",
      "\u001B[36mCell\u001B[39m\u001B[36m \u001B[39m\u001B[32mIn[1]\u001B[39m\u001B[32m, line 2\u001B[39m\n\u001B[32m      1\u001B[39m \u001B[38;5;28;01mfrom\u001B[39;00m\u001B[38;5;250m \u001B[39m\u001B[34;01mconfig\u001B[39;00m\u001B[38;5;250m \u001B[39m\u001B[38;5;28;01mimport\u001B[39;00m get_engine\n\u001B[32m----> \u001B[39m\u001B[32m2\u001B[39m \u001B[43mget_engine\u001B[49m\u001B[43m(\u001B[49m\u001B[43m)\u001B[49m.connect()\n",
      "\u001B[36mFile \u001B[39m\u001B[32m~/DataspellProjects/Projects/ahaems-2025-submission/config.py:28\u001B[39m, in \u001B[36mget_engine\u001B[39m\u001B[34m()\u001B[39m\n\u001B[32m     24\u001B[39m \u001B[38;5;250m\u001B[39m\u001B[33;03m\"\"\"\u001B[39;00m\n\u001B[32m     25\u001B[39m \u001B[33;03mCreate a SQLAlchemy engine using credentials from .env\u001B[39;00m\n\u001B[32m     26\u001B[39m \u001B[33;03m\"\"\"\u001B[39;00m\n\u001B[32m     27\u001B[39m \u001B[38;5;28;01mif\u001B[39;00m \u001B[38;5;129;01mnot\u001B[39;00m \u001B[38;5;28mall\u001B[39m([DB_HOST, DB_PORT, DB_USER, DB_PASS, DB_NAME]):\n\u001B[32m---> \u001B[39m\u001B[32m28\u001B[39m     \u001B[38;5;28;01mraise\u001B[39;00m \u001B[38;5;167;01mValueError\u001B[39;00m(\u001B[33m\"\u001B[39m\u001B[33mMissing one or more required DB environment variables.\u001B[39m\u001B[33m\"\u001B[39m)\n\u001B[32m     30\u001B[39m \u001B[38;5;28;01mtry\u001B[39;00m:\n\u001B[32m     31\u001B[39m     \u001B[38;5;28;01mreturn\u001B[39;00m create_engine(\n\u001B[32m     32\u001B[39m         \u001B[33mf\u001B[39m\u001B[33m\"\u001B[39m\u001B[33mpostgresql://\u001B[39m\u001B[38;5;132;01m{\u001B[39;00mDB_USER\u001B[38;5;132;01m}\u001B[39;00m\u001B[33m:\u001B[39m\u001B[38;5;132;01m{\u001B[39;00mDB_PASS\u001B[38;5;132;01m}\u001B[39;00m\u001B[33m@\u001B[39m\u001B[38;5;132;01m{\u001B[39;00mDB_HOST\u001B[38;5;132;01m}\u001B[39;00m\u001B[33m:\u001B[39m\u001B[38;5;132;01m{\u001B[39;00mDB_PORT\u001B[38;5;132;01m}\u001B[39;00m\u001B[33m/\u001B[39m\u001B[38;5;132;01m{\u001B[39;00mDB_NAME\u001B[38;5;132;01m}\u001B[39;00m\u001B[33m\"\u001B[39m\n\u001B[32m     33\u001B[39m     )\n",
      "\u001B[31mValueError\u001B[39m: Missing one or more required DB environment variables."
     ]
    }
   ],
   "execution_count": 1,
   "source": [
    "from config import get_engine\n",
    "get_engine().connect()\n"
   ],
   "id": "initial_id"
  },
  {
   "metadata": {},
   "cell_type": "code",
   "outputs": [],
   "source": "",
   "id": "2551e5d60f484f60",
   "execution_count": null
  }
 ],
 "metadata": {
  "kernelspec": {
   "display_name": "Python 3",
   "language": "python",
   "name": "python3"
  },
  "language_info": {
   "codemirror_mode": {
    "name": "ipython",
    "version": 2
   },
   "file_extension": ".py",
   "mimetype": "text/x-python",
   "name": "python",
   "nbconvert_exporter": "python",
   "pygments_lexer": "ipython2",
   "version": "2.7.6"
  }
 },
 "nbformat": 4,
 "nbformat_minor": 5
}
