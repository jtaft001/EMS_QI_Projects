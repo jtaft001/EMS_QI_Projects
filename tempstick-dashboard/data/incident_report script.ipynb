{
 "cells": [
  {
   "cell_type": "code",
   "execution_count": 2,
   "id": "ece84003-5551-4623-9fd4-9fa8966da845",
   "metadata": {},
   "outputs": [
    {
     "name": "stdout",
     "output_type": "stream",
     "text": [
      "✅ SQLite DB created at: /home/jonathan-taft/projects/taft_projects/data_analysis/TempStick/data/ninthbrain_incidents.db\n"
     ]
    }
   ],
   "source": [
    "import os\n",
    "import sqlite3\n",
    "\n",
    "# Define your target directory and database path\n",
    "dir_path = os.path.expanduser(\"~/projects/taft_projects/data_analysis/TempStick/data\")\n",
    "db_path = os.path.join(dir_path, \"ninthbrain_incidents.db\")\n",
    "\n",
    "# Create the directory if it doesn't exist\n",
    "os.makedirs(dir_path, exist_ok=True)\n",
    "\n",
    "# Create the SQLite DB and table\n",
    "conn = sqlite3.connect(db_path)\n",
    "cursor = conn.cursor()\n",
    "\n",
    "cursor.execute(\"\"\"\n",
    "CREATE TABLE IF NOT EXISTS incident_reports (\n",
    "    id INTEGER PRIMARY KEY AUTOINCREMENT,\n",
    "    incident_type TEXT,\n",
    "    related_to TEXT,\n",
    "    incident_id INTEGER,\n",
    "    incident_datetime TEXT,\n",
    "    case_id TEXT,\n",
    "    run_id TEXT,\n",
    "    unit TEXT,\n",
    "    reported_by TEXT,\n",
    "    assigned_to TEXT,\n",
    "    status TEXT,\n",
    "    result_outcome TEXT,\n",
    "    notes_to_submitter TEXT,\n",
    "    closed_notes TEXT,\n",
    "    closed_date TEXT,\n",
    "    closed_by TEXT,\n",
    "    high_risk TEXT,\n",
    "    legal TEXT,\n",
    "    flags TEXT,\n",
    "    description TEXT,\n",
    "    those_involved TEXT,\n",
    "    type TEXT,\n",
    "    action TEXT,\n",
    "    date_submitted TEXT,\n",
    "    submitted_by TEXT,\n",
    "    submitted_by_employee TEXT,\n",
    "    current_temp TEXT,\n",
    "    if_pharmacy_contacted TEXT,\n",
    "    outcome_text TEXT,\n",
    "    mitigation_efforts TEXT,\n",
    "    pharmacy_contacted TEXT,\n",
    "    temp_after_1h TEXT\n",
    ")\n",
    "\"\"\")\n",
    "\n",
    "conn.commit()\n",
    "conn.close()\n",
    "\n",
    "print(f\"✅ SQLite DB created at: {db_path}\")"
   ]
  },
  {
   "cell_type": "code",
   "execution_count": null,
   "id": "74eefe26-0c3b-44ab-a611-1ec2b58528cc",
   "metadata": {},
   "outputs": [],
   "source": []
  }
 ],
 "metadata": {
  "kernelspec": {
   "display_name": "Python 3 (ipykernel)",
   "language": "python",
   "name": "python3"
  },
  "language_info": {
   "codemirror_mode": {
    "name": "ipython",
    "version": 3
   },
   "file_extension": ".py",
   "mimetype": "text/x-python",
   "name": "python",
   "nbconvert_exporter": "python",
   "pygments_lexer": "ipython3",
   "version": "3.11.6"
  }
 },
 "nbformat": 4,
 "nbformat_minor": 5
}
