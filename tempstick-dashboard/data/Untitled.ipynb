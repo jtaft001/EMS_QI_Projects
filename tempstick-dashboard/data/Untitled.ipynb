{
 "cells": [
  {
   "cell_type": "code",
   "execution_count": 2,
   "id": "6e8eeb4a-83fd-4a45-a1d5-839a1628cfba",
   "metadata": {},
   "outputs": [
    {
     "ename": "SyntaxError",
     "evalue": "invalid decimal literal (1500169609.py, line 2)",
     "output_type": "error",
     "traceback": [
      "  \u001b[36mCell\u001b[39m\u001b[36m \u001b[39m\u001b[32mIn[2]\u001b[39m\u001b[32m, line 2\u001b[39m\n\u001b[31m    \u001b[39m\u001b[31m-- Step 1a: Create a new table without the bad column\u001b[39m\n            ^\n\u001b[31mSyntaxError\u001b[39m\u001b[31m:\u001b[39m invalid decimal literal\n"
     ]
    }
   ],
   "source": [
    "-- SQLite does not support DROP COLUMN directly; youll need to recreate the table.\n",
    "-- Step 1a: Create a new table without the bad column\n",
    "CREATE TABLE cleaned_incident_reports AS\n",
    "SELECT \n",
    "    incident_type, related_to, incident_id, incident_datetime, case_id, run_id, unit,\n",
    "    reported_by, assigned_to, status, result_outcome, notes_to_submitter, closed_notes,\n",
    "    closed_date, closed_by, high_risk, legal, flags, description, those_involved, type,\n",
    "    action, date_submitted, submitted_by, submitted_by_employee, current_temp,\n",
    "    if_pharmacy_contacted, outcome_text, mitigation_efforts, pharmacy_contacted,\n",
    "    temp_after_1h, \"Unnamed: 31\"\n",
    "FROM incident_reports;\n",
    "\n",
    "-- Step 1b: Drop the old table\n",
    "DROP TABLE incident_reports;\n",
    "\n",
    "-- Step 1c: Rename the new cleaned table back to original name\n",
    "ALTER TABLE cleaned_incident_reports RENAME TO incident_reports;"
   ]
  },
  {
   "cell_type": "code",
   "execution_count": null,
   "id": "47e8f74f-4eeb-4be5-9718-4f464ce8f20f",
   "metadata": {},
   "outputs": [],
   "source": []
  }
 ],
 "metadata": {
  "kernelspec": {
   "display_name": "Python 3 (ipykernel)",
   "language": "python",
   "name": "python3"
  },
  "language_info": {
   "codemirror_mode": {
    "name": "ipython",
    "version": 3
   },
   "file_extension": ".py",
   "mimetype": "text/x-python",
   "name": "python",
   "nbconvert_exporter": "python",
   "pygments_lexer": "ipython3",
   "version": "3.12.3"
  }
 },
 "nbformat": 4,
 "nbformat_minor": 5
}
