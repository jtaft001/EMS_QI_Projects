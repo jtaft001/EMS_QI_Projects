{
 "cells": [
  {
   "cell_type": "code",
   "id": "initial_id",
   "metadata": {
    "collapsed": true,
    "ExecuteTime": {
     "end_time": "2025-06-25T22:10:22.795555Z",
     "start_time": "2025-06-25T22:10:22.037586Z"
    }
   },
   "source": [
    "import requests\n",
    "\n",
    "client_id = \"af245b33ce2290d4925e4542f052f9a1\"\n",
    "client_secret = \"005f2042e652c7a7ff1fcffc3efc3ed\"\n",
    "\n",
    "# 1. Request Access Token\n",
    "token_url = \"https://api.ic.peplink.com/api/rest/oauth2/token\"\n",
    "token_data = {\n",
    "    \"grant_type\": \"client_credentials\",\n",
    "    \"client_id\": client_id,\n",
    "    \"client_secret\": client_secret,\n",
    "}\n",
    "\n",
    "token_resp = requests.post(token_url, data=token_data)\n",
    "print(\"Status code:\", token_resp.status_code)\n",
    "print(\"Response text:\", token_resp.text)\n",
    "\n",
    "token_resp = requests.post(token_url, data=token_data)\n",
    "token = token_resp.json()[\"access_token\"]\n",
    "\n",
    "token_resp = requests.post(token_url, data=token_data)\n",
    "print(\"Status code:\", token_resp.status_code)\n",
    "print(\"Response text:\", token_resp.text)\n",
    "\n",
    "# 2. Use token to get org list\n",
    "org_url = \"https://api.ic.peplink.com/api/rest/v2/organizations\"\n",
    "headers = {\"Authorization\": f\"Bearer {token}\"}\n",
    "org_resp = requests.get(org_url, headers=headers)\n",
    "\n",
    "# 3. Print available organizations\n",
    "for org in org_resp.json().get(\"data\", []):\n",
    "    print(f\"Org Name: {org['name']} | Org ID: {org['id']}\")\n",
    "\n",
    "    token_resp = requests.post(token_url, data=token_data)\n",
    "print(\"Status code:\", token_resp.status_code)\n",
    "print(\"Response text:\", token_resp.text)"
   ],
   "outputs": [
    {
     "name": "stdout",
     "output_type": "stream",
     "text": [
      "Status code: 404\n",
      "Response text: <!DOCTYPE html><html><head><meta http-equiv=\"Content-Type\" content=\"text/html; charset=UTF-8\" /><title>InControl 2</title><style>body { background-color: rgba(255, 255, 255, 1); }.maintain_bar { top: 20%; left: 0; right: 0; bottom:0; width: 100%; text-align: center; position: absolute; }.maintain_board { text-align: left; vertical-align: middle; margin: 0 auto; width: 50%; font-size: 20px; font-family: 'Droid Sans', Helvetica, Arial, sans-serif; color: #333; background: rgba(255, 255, 255, 1); padding: 20px; border: 5px solid rgb(184, 184, 184); }.header {font-size: 18px; font-weight: bold; color: #ff0000;}.text {font-size: 14px; font-weight: bold; color: #000000;}.error {font-size: 12px; color: #ff0000; display: block;}.button {font-size: 14px; font-weight: bold; color: #000000; border: solid 1px #000099;}</style><script language='javascript'></script></head><body><div class=\"maintain_bar\"><div class=\"maintain_board\"><span class='header'>The page you are looking for does not exist.</span><br/><br/><span class='text'>You may have mistyped the address or the page may have moved.</span></div></div></body></html>\n"
     ]
    },
    {
     "ename": "JSONDecodeError",
     "evalue": "Expecting value: line 1 column 1 (char 0)",
     "output_type": "error",
     "traceback": [
      "\u001B[31m---------------------------------------------------------------------------\u001B[39m",
      "\u001B[31mJSONDecodeError\u001B[39m                           Traceback (most recent call last)",
      "\u001B[36mFile \u001B[39m\u001B[32m~/work/.venv/lib/python3.11/site-packages/requests/models.py:976\u001B[39m, in \u001B[36mResponse.json\u001B[39m\u001B[34m(self, **kwargs)\u001B[39m\n\u001B[32m    975\u001B[39m \u001B[38;5;28;01mtry\u001B[39;00m:\n\u001B[32m--> \u001B[39m\u001B[32m976\u001B[39m     \u001B[38;5;28;01mreturn\u001B[39;00m \u001B[43mcomplexjson\u001B[49m\u001B[43m.\u001B[49m\u001B[43mloads\u001B[49m\u001B[43m(\u001B[49m\u001B[38;5;28;43mself\u001B[39;49m\u001B[43m.\u001B[49m\u001B[43mtext\u001B[49m\u001B[43m,\u001B[49m\u001B[43m \u001B[49m\u001B[43m*\u001B[49m\u001B[43m*\u001B[49m\u001B[43mkwargs\u001B[49m\u001B[43m)\u001B[49m\n\u001B[32m    977\u001B[39m \u001B[38;5;28;01mexcept\u001B[39;00m JSONDecodeError \u001B[38;5;28;01mas\u001B[39;00m e:\n\u001B[32m    978\u001B[39m     \u001B[38;5;66;03m# Catch JSON-related errors and raise as requests.JSONDecodeError\u001B[39;00m\n\u001B[32m    979\u001B[39m     \u001B[38;5;66;03m# This aliases json.JSONDecodeError and simplejson.JSONDecodeError\u001B[39;00m\n",
      "\u001B[36mFile \u001B[39m\u001B[32m/opt/conda/lib/python3.11/json/__init__.py:346\u001B[39m, in \u001B[36mloads\u001B[39m\u001B[34m(s, cls, object_hook, parse_float, parse_int, parse_constant, object_pairs_hook, **kw)\u001B[39m\n\u001B[32m    343\u001B[39m \u001B[38;5;28;01mif\u001B[39;00m (\u001B[38;5;28mcls\u001B[39m \u001B[38;5;129;01mis\u001B[39;00m \u001B[38;5;28;01mNone\u001B[39;00m \u001B[38;5;129;01mand\u001B[39;00m object_hook \u001B[38;5;129;01mis\u001B[39;00m \u001B[38;5;28;01mNone\u001B[39;00m \u001B[38;5;129;01mand\u001B[39;00m\n\u001B[32m    344\u001B[39m         parse_int \u001B[38;5;129;01mis\u001B[39;00m \u001B[38;5;28;01mNone\u001B[39;00m \u001B[38;5;129;01mand\u001B[39;00m parse_float \u001B[38;5;129;01mis\u001B[39;00m \u001B[38;5;28;01mNone\u001B[39;00m \u001B[38;5;129;01mand\u001B[39;00m\n\u001B[32m    345\u001B[39m         parse_constant \u001B[38;5;129;01mis\u001B[39;00m \u001B[38;5;28;01mNone\u001B[39;00m \u001B[38;5;129;01mand\u001B[39;00m object_pairs_hook \u001B[38;5;129;01mis\u001B[39;00m \u001B[38;5;28;01mNone\u001B[39;00m \u001B[38;5;129;01mand\u001B[39;00m \u001B[38;5;129;01mnot\u001B[39;00m kw):\n\u001B[32m--> \u001B[39m\u001B[32m346\u001B[39m     \u001B[38;5;28;01mreturn\u001B[39;00m \u001B[43m_default_decoder\u001B[49m\u001B[43m.\u001B[49m\u001B[43mdecode\u001B[49m\u001B[43m(\u001B[49m\u001B[43ms\u001B[49m\u001B[43m)\u001B[49m\n\u001B[32m    347\u001B[39m \u001B[38;5;28;01mif\u001B[39;00m \u001B[38;5;28mcls\u001B[39m \u001B[38;5;129;01mis\u001B[39;00m \u001B[38;5;28;01mNone\u001B[39;00m:\n",
      "\u001B[36mFile \u001B[39m\u001B[32m/opt/conda/lib/python3.11/json/decoder.py:337\u001B[39m, in \u001B[36mJSONDecoder.decode\u001B[39m\u001B[34m(self, s, _w)\u001B[39m\n\u001B[32m    333\u001B[39m \u001B[38;5;250m\u001B[39m\u001B[33;03m\"\"\"Return the Python representation of ``s`` (a ``str`` instance\u001B[39;00m\n\u001B[32m    334\u001B[39m \u001B[33;03mcontaining a JSON document).\u001B[39;00m\n\u001B[32m    335\u001B[39m \n\u001B[32m    336\u001B[39m \u001B[33;03m\"\"\"\u001B[39;00m\n\u001B[32m--> \u001B[39m\u001B[32m337\u001B[39m obj, end = \u001B[38;5;28;43mself\u001B[39;49m\u001B[43m.\u001B[49m\u001B[43mraw_decode\u001B[49m\u001B[43m(\u001B[49m\u001B[43ms\u001B[49m\u001B[43m,\u001B[49m\u001B[43m \u001B[49m\u001B[43midx\u001B[49m\u001B[43m=\u001B[49m\u001B[43m_w\u001B[49m\u001B[43m(\u001B[49m\u001B[43ms\u001B[49m\u001B[43m,\u001B[49m\u001B[43m \u001B[49m\u001B[32;43m0\u001B[39;49m\u001B[43m)\u001B[49m\u001B[43m.\u001B[49m\u001B[43mend\u001B[49m\u001B[43m(\u001B[49m\u001B[43m)\u001B[49m\u001B[43m)\u001B[49m\n\u001B[32m    338\u001B[39m end = _w(s, end).end()\n",
      "\u001B[36mFile \u001B[39m\u001B[32m/opt/conda/lib/python3.11/json/decoder.py:355\u001B[39m, in \u001B[36mJSONDecoder.raw_decode\u001B[39m\u001B[34m(self, s, idx)\u001B[39m\n\u001B[32m    354\u001B[39m \u001B[38;5;28;01mexcept\u001B[39;00m \u001B[38;5;167;01mStopIteration\u001B[39;00m \u001B[38;5;28;01mas\u001B[39;00m err:\n\u001B[32m--> \u001B[39m\u001B[32m355\u001B[39m     \u001B[38;5;28;01mraise\u001B[39;00m JSONDecodeError(\u001B[33m\"\u001B[39m\u001B[33mExpecting value\u001B[39m\u001B[33m\"\u001B[39m, s, err.value) \u001B[38;5;28;01mfrom\u001B[39;00m\u001B[38;5;250m \u001B[39m\u001B[38;5;28;01mNone\u001B[39;00m\n\u001B[32m    356\u001B[39m \u001B[38;5;28;01mreturn\u001B[39;00m obj, end\n",
      "\u001B[31mJSONDecodeError\u001B[39m: Expecting value: line 1 column 1 (char 0)",
      "\nDuring handling of the above exception, another exception occurred:\n",
      "\u001B[31mJSONDecodeError\u001B[39m                           Traceback (most recent call last)",
      "\u001B[36mCell\u001B[39m\u001B[36m \u001B[39m\u001B[32mIn[5]\u001B[39m\u001B[32m, line 19\u001B[39m\n\u001B[32m     16\u001B[39m \u001B[38;5;28mprint\u001B[39m(\u001B[33m\"\u001B[39m\u001B[33mResponse text:\u001B[39m\u001B[33m\"\u001B[39m, token_resp.text)\n\u001B[32m     18\u001B[39m token_resp = requests.post(token_url, data=token_data)\n\u001B[32m---> \u001B[39m\u001B[32m19\u001B[39m token = \u001B[43mtoken_resp\u001B[49m\u001B[43m.\u001B[49m\u001B[43mjson\u001B[49m\u001B[43m(\u001B[49m\u001B[43m)\u001B[49m[\u001B[33m\"\u001B[39m\u001B[33maccess_token\u001B[39m\u001B[33m\"\u001B[39m]\n\u001B[32m     21\u001B[39m token_resp = requests.post(token_url, data=token_data)\n\u001B[32m     22\u001B[39m \u001B[38;5;28mprint\u001B[39m(\u001B[33m\"\u001B[39m\u001B[33mStatus code:\u001B[39m\u001B[33m\"\u001B[39m, token_resp.status_code)\n",
      "\u001B[36mFile \u001B[39m\u001B[32m~/work/.venv/lib/python3.11/site-packages/requests/models.py:980\u001B[39m, in \u001B[36mResponse.json\u001B[39m\u001B[34m(self, **kwargs)\u001B[39m\n\u001B[32m    976\u001B[39m     \u001B[38;5;28;01mreturn\u001B[39;00m complexjson.loads(\u001B[38;5;28mself\u001B[39m.text, **kwargs)\n\u001B[32m    977\u001B[39m \u001B[38;5;28;01mexcept\u001B[39;00m JSONDecodeError \u001B[38;5;28;01mas\u001B[39;00m e:\n\u001B[32m    978\u001B[39m     \u001B[38;5;66;03m# Catch JSON-related errors and raise as requests.JSONDecodeError\u001B[39;00m\n\u001B[32m    979\u001B[39m     \u001B[38;5;66;03m# This aliases json.JSONDecodeError and simplejson.JSONDecodeError\u001B[39;00m\n\u001B[32m--> \u001B[39m\u001B[32m980\u001B[39m     \u001B[38;5;28;01mraise\u001B[39;00m RequestsJSONDecodeError(e.msg, e.doc, e.pos)\n",
      "\u001B[31mJSONDecodeError\u001B[39m: Expecting value: line 1 column 1 (char 0)"
     ]
    }
   ],
   "execution_count": 5
  },
  {
   "metadata": {
    "ExecuteTime": {
     "end_time": "2025-06-25T22:11:35.943091Z",
     "start_time": "2025-06-25T22:11:35.642792Z"
    }
   },
   "cell_type": "code",
   "source": [
    "import requests\n",
    "\n",
    "client_id = \"af245b33ce2290d4925e4542f052f9a1\"\n",
    "client_secret = \"005f2042e652c7a7ff1fcffc3efc3ed\"\n",
    "\n",
    "token_url = \"https://api.ic.peplink.com/api/oauth2/token\"\n",
    "\n",
    "token_data = {\n",
    "    \"grant_type\": \"client_credentials\",\n",
    "    \"client_id\": client_id,\n",
    "    \"client_secret\": client_secret,\n",
    "    \"scope\": \"readonly\"  # 👈 required in some cases\n",
    "}\n",
    "\n",
    "headers = {\n",
    "    \"Content-Type\": \"application/x-www-form-urlencoded\"\n",
    "}\n",
    "\n",
    "resp = requests.post(token_url, data=token_data, headers=headers)\n",
    "\n",
    "print(\"Status code:\", resp.status_code)\n",
    "print(\"Response text:\", resp.text)\n",
    "\n",
    "# If successful, parse token\n",
    "if resp.status_code == 200:\n",
    "    token = resp.json()[\"access_token\"]\n",
    "    print(\"Access Token:\", token)"
   ],
   "id": "f4a22e297d57aaf1",
   "outputs": [
    {
     "name": "stdout",
     "output_type": "stream",
     "text": [
      "Status code: 401\n",
      "Response text: {\"error_description\":\"invalid_client\",\"error\":\"invalid_client\"}\n"
     ]
    }
   ],
   "execution_count": 8
  },
  {
   "metadata": {
    "ExecuteTime": {
     "end_time": "2025-06-25T22:11:59.086025Z",
     "start_time": "2025-06-25T22:11:58.790631Z"
    }
   },
   "cell_type": "code",
   "source": [
    "import requests\n",
    "from requests.auth import HTTPBasicAuth\n",
    "\n",
    "client_id = \"af245b33ce2290d4925e4542f052f9a1\"\n",
    "client_secret = \"005f2042e652c7a7ff1fcffc3efc3ed\"\n",
    "\n",
    "url = \"https://api.ic.peplink.com/api/oauth2/token\"\n",
    "\n",
    "# Send with HTTP Basic Auth\n",
    "auth = HTTPBasicAuth(client_id, client_secret)\n",
    "data = {\"grant_type\": \"client_credentials\"}\n",
    "\n",
    "resp = requests.post(url, auth=auth, data=data)\n",
    "\n",
    "print(\"Status:\", resp.status_code)\n",
    "print(\"Response:\", resp.text)\n",
    "\n",
    "if resp.status_code == 200:\n",
    "    access_token = resp.json()[\"access_token\"]\n",
    "    print(\"✅ Access Token:\", access_token)\n",
    "else:\n",
    "    print(\"❌ Failed to get token\")"
   ],
   "id": "f228f320df796bf2",
   "outputs": [
    {
     "name": "stdout",
     "output_type": "stream",
     "text": [
      "Status: 401\n",
      "Response: {\"error_description\":\"invalid_client\",\"error\":\"invalid_client\"}\n",
      "❌ Failed to get token\n"
     ]
    }
   ],
   "execution_count": 9
  },
  {
   "metadata": {
    "ExecuteTime": {
     "end_time": "2025-06-25T22:14:35.460560Z",
     "start_time": "2025-06-25T22:14:35.455194Z"
    }
   },
   "cell_type": "code",
   "source": [
    "curl -u af245b33ce2290d4925e4542f052f9a1:005f2042e652c7a7ff1fcffc3efc3ed \\\n",
    "  -X POST https://api.ic.peplink.com/api/oauth2/token \\\n",
    "  -d \"grant_type=client_credentials\""
   ],
   "id": "b3dcc408666b34e5",
   "outputs": [
    {
     "ename": "SyntaxError",
     "evalue": "leading zeros in decimal integer literals are not permitted; use an 0o prefix for octal integers (1314852436.py, line 1)",
     "output_type": "error",
     "traceback": [
      "  \u001B[36mCell\u001B[39m\u001B[36m \u001B[39m\u001B[32mIn[13]\u001B[39m\u001B[32m, line 1\u001B[39m\n\u001B[31m    \u001B[39m\u001B[31mcurl -u af245b33ce2290d4925e4542f052f9a1:005f2042e652c7a7ff1fcffc3efc3ed \\\u001B[39m\n                                             ^\n\u001B[31mSyntaxError\u001B[39m\u001B[31m:\u001B[39m leading zeros in decimal integer literals are not permitted; use an 0o prefix for octal integers\n"
     ]
    }
   ],
   "execution_count": 13
  },
  {
   "metadata": {
    "ExecuteTime": {
     "end_time": "2025-06-25T22:16:17.790456Z",
     "start_time": "2025-06-25T22:16:16.494460Z"
    }
   },
   "cell_type": "code",
   "source": [
    "!curl -u af245b33ce2290d4925e4542f052f9a1:005f2042e652c7a7ff1fcffc3efc3ed \\\n",
    "  -X POST https://api.ic.peplink.com/api/oauth2/token \\\n",
    "  -d \"grant_type=client_credentials\"\n"
   ],
   "id": "d9af37619851c625",
   "outputs": [
    {
     "name": "stdout",
     "output_type": "stream",
     "text": [
      "{\"error_description\":\"invalid_client\",\"error\":\"invalid_client\"}"
     ]
    }
   ],
   "execution_count": 14
  }
 ],
 "metadata": {
  "kernelspec": {
   "display_name": "Python 3",
   "language": "python",
   "name": "python3"
  },
  "language_info": {
   "codemirror_mode": {
    "name": "ipython",
    "version": 2
   },
   "file_extension": ".py",
   "mimetype": "text/x-python",
   "name": "python",
   "nbconvert_exporter": "python",
   "pygments_lexer": "ipython2",
   "version": "2.7.6"
  }
 },
 "nbformat": 4,
 "nbformat_minor": 5
}
