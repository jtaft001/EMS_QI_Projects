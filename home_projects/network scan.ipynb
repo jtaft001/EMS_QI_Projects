{
 "cells": [
  {
   "metadata": {},
   "cell_type": "code",
   "outputs": [],
   "execution_count": null,
   "source": "",
   "id": "b9e8ec44fff328f7"
  },
  {
   "metadata": {
    "ExecuteTime": {
     "end_time": "2025-06-26T18:19:02.091307Z",
     "start_time": "2025-06-26T18:18:49.198194Z"
    }
   },
   "cell_type": "code",
   "source": "!pip install scapy mac-vendor-lookup",
   "id": "c2c287a0e99b1877",
   "outputs": [
    {
     "name": "stdout",
     "output_type": "stream",
     "text": [
      "Collecting scapy\r\n",
      "  Downloading scapy-2.6.1-py3-none-any.whl.metadata (5.6 kB)\r\n",
      "Collecting mac-vendor-lookup\r\n",
      "  Downloading mac_vendor_lookup-0.1.12-py3-none-any.whl.metadata (3.2 kB)\r\n",
      "Collecting aiofiles (from mac-vendor-lookup)\r\n",
      "  Downloading aiofiles-24.1.0-py3-none-any.whl.metadata (10 kB)\r\n",
      "Collecting aiohttp (from mac-vendor-lookup)\r\n",
      "  Downloading aiohttp-3.12.13-cp311-cp311-manylinux_2_17_x86_64.manylinux2014_x86_64.whl.metadata (7.6 kB)\r\n",
      "Collecting aiohappyeyeballs>=2.5.0 (from aiohttp->mac-vendor-lookup)\r\n",
      "  Downloading aiohappyeyeballs-2.6.1-py3-none-any.whl.metadata (5.9 kB)\r\n",
      "Collecting aiosignal>=1.1.2 (from aiohttp->mac-vendor-lookup)\r\n",
      "  Downloading aiosignal-1.3.2-py2.py3-none-any.whl.metadata (3.8 kB)\r\n",
      "Requirement already satisfied: attrs>=17.3.0 in ./.venv/lib/python3.11/site-packages (from aiohttp->mac-vendor-lookup) (25.3.0)\r\n",
      "Collecting frozenlist>=1.1.1 (from aiohttp->mac-vendor-lookup)\r\n",
      "  Downloading frozenlist-1.7.0-cp311-cp311-manylinux_2_5_x86_64.manylinux1_x86_64.manylinux_2_17_x86_64.manylinux2014_x86_64.whl.metadata (18 kB)\r\n",
      "Collecting multidict<7.0,>=4.5 (from aiohttp->mac-vendor-lookup)\r\n",
      "  Downloading multidict-6.5.1-cp311-cp311-manylinux2014_x86_64.manylinux_2_17_x86_64.manylinux_2_28_x86_64.whl.metadata (5.3 kB)\r\n",
      "Collecting propcache>=0.2.0 (from aiohttp->mac-vendor-lookup)\r\n",
      "  Downloading propcache-0.3.2-cp311-cp311-manylinux_2_17_x86_64.manylinux2014_x86_64.whl.metadata (12 kB)\r\n",
      "Collecting yarl<2.0,>=1.17.0 (from aiohttp->mac-vendor-lookup)\r\n",
      "  Downloading yarl-1.20.1-cp311-cp311-manylinux_2_17_x86_64.manylinux2014_x86_64.whl.metadata (73 kB)\r\n",
      "Requirement already satisfied: idna>=2.0 in ./.venv/lib/python3.11/site-packages (from yarl<2.0,>=1.17.0->aiohttp->mac-vendor-lookup) (3.10)\r\n",
      "Downloading scapy-2.6.1-py3-none-any.whl (2.4 MB)\r\n",
      "\u001B[2K   \u001B[90m━━━━━━━━━━━━━━━━━━━━━━━━━━━━━━━━━━━━━━━━\u001B[0m \u001B[32m2.4/2.4 MB\u001B[0m \u001B[31m4.2 MB/s\u001B[0m eta \u001B[36m0:00:00\u001B[0ma \u001B[36m0:00:01\u001B[0m\r\n",
      "\u001B[?25hDownloading mac_vendor_lookup-0.1.12-py3-none-any.whl (350 kB)\r\n",
      "Downloading aiofiles-24.1.0-py3-none-any.whl (15 kB)\r\n",
      "Downloading aiohttp-3.12.13-cp311-cp311-manylinux_2_17_x86_64.manylinux2014_x86_64.whl (1.7 MB)\r\n",
      "\u001B[2K   \u001B[90m━━━━━━━━━━━━━━━━━━━━━━━━━━━━━━━━━━━━━━━━\u001B[0m \u001B[32m1.7/1.7 MB\u001B[0m \u001B[31m3.1 MB/s\u001B[0m eta \u001B[36m0:00:00\u001B[0mta \u001B[36m0:00:01\u001B[0m\r\n",
      "\u001B[?25hDownloading multidict-6.5.1-cp311-cp311-manylinux2014_x86_64.manylinux_2_17_x86_64.manylinux_2_28_x86_64.whl (251 kB)\r\n",
      "Downloading yarl-1.20.1-cp311-cp311-manylinux_2_17_x86_64.manylinux2014_x86_64.whl (348 kB)\r\n",
      "Downloading aiohappyeyeballs-2.6.1-py3-none-any.whl (15 kB)\r\n",
      "Downloading aiosignal-1.3.2-py2.py3-none-any.whl (7.6 kB)\r\n",
      "Downloading frozenlist-1.7.0-cp311-cp311-manylinux_2_5_x86_64.manylinux1_x86_64.manylinux_2_17_x86_64.manylinux2014_x86_64.whl (235 kB)\r\n",
      "Downloading propcache-0.3.2-cp311-cp311-manylinux_2_17_x86_64.manylinux2014_x86_64.whl (213 kB)\r\n",
      "Installing collected packages: scapy, propcache, multidict, frozenlist, aiohappyeyeballs, aiofiles, yarl, aiosignal, aiohttp, mac-vendor-lookup\r\n",
      "\u001B[2K   \u001B[90m━━━━━━━━━━━━━━━━━━━━━━━━━━━━━━━━━━━━━━━━\u001B[0m \u001B[32m10/10\u001B[0m [mac-vendor-lookup]mac-vendor-lookup]\r\n",
      "\u001B[1A\u001B[2KSuccessfully installed aiofiles-24.1.0 aiohappyeyeballs-2.6.1 aiohttp-3.12.13 aiosignal-1.3.2 frozenlist-1.7.0 mac-vendor-lookup-0.1.12 multidict-6.5.1 propcache-0.3.2 scapy-2.6.1 yarl-1.20.1\r\n"
     ]
    }
   ],
   "execution_count": 1
  },
  {
   "metadata": {
    "ExecuteTime": {
     "end_time": "2025-06-26T18:22:26.093047Z",
     "start_time": "2025-06-26T18:22:24.998624Z"
    }
   },
   "cell_type": "code",
   "source": [
    "from scapy.all import ARP, Ether, srp\n",
    "from mac_vendor_lookup import MacLookup\n",
    "import socket\n",
    "\n",
    "# Set your subnet here\n",
    "TARGET_SUBNET = \"10.0.0.0/24\"  # Adjust to match your LAN\n",
    "\n",
    "def scan_network(subnet):\n",
    "    print(f\"Scanning {subnet}...\")\n",
    "    arp = ARP(pdst=subnet)\n",
    "    ether = Ether(dst=\"ff:ff:ff:ff:ff:ff\")\n",
    "    packet = ether/arp\n",
    "    result = srp(packet, timeout=2, verbose=0)[0]\n",
    "\n",
    "    devices = []\n",
    "    for sent, received in result:\n",
    "        ip = received.psrc\n",
    "        mac = received.hwsrc\n",
    "        try:\n",
    "            vendor = MacLookup().lookup(mac)\n",
    "        except Exception:\n",
    "            vendor = \"Unknown\"\n",
    "        try:\n",
    "            hostname = socket.gethostbyaddr(ip)[0]\n",
    "        except Exception:\n",
    "            hostname = \"N/A\"\n",
    "        devices.append({\n",
    "            \"IP\": ip,\n",
    "            \"MAC\": mac,\n",
    "            \"Vendor\": vendor,\n",
    "            \"Hostname\": hostname\n",
    "        })\n",
    "    return devices\n",
    "\n",
    "def print_devices(devices):\n",
    "    print(f\"{'IP':<15}{'MAC':<18}{'Vendor':<30}{'Hostname'}\")\n",
    "    print(\"-\" * 80)\n",
    "    for d in devices:\n",
    "        print(f\"{d['IP']:<15}{d['MAC']:<18}{d['Vendor']:<30}{d['Hostname']}\")\n",
    "\n",
    "def suggest_ha_integrations(devices):\n",
    "    suggestions = []\n",
    "    keywords = {\n",
    "        \"esp\": \"ESPHome\",\n",
    "        \"tuya\": \"Tuya\",\n",
    "        \"philips\": \"Philips Hue\",\n",
    "        \"google\": \"Google Cast\",\n",
    "        \"roku\": \"Roku\",\n",
    "        \"amazon\": \"Alexa\",\n",
    "        \"sonos\": \"Sonos\",\n",
    "        \"wyze\": \"Wyze\",\n",
    "        \"leviton\": \"My Leviton\",\n",
    "        \"netgear\": \"Netgear\",\n",
    "        \"apple\": \"HomeKit\",\n",
    "        \"shelly\": \"Shelly\",\n",
    "        \"tplink\": \"TP-Link (Kasa/Deco)\",\n",
    "    }\n",
    "    for d in devices:\n",
    "        for keyword, integration in keywords.items():\n",
    "            if keyword in d['Vendor'].lower() or keyword in d['Hostname'].lower():\n",
    "                suggestions.append((d['IP'], integration))\n",
    "    return suggestions\n",
    "\n",
    "# Run the script\n",
    "devices = scan_network(TARGET_SUBNET)\n",
    "print_devices(devices)\n",
    "\n",
    "ha_matches = suggest_ha_integrations(devices)\n",
    "print(\"\\n🔌 Suggested Home Assistant Integrations:\")\n",
    "for ip, integration in ha_matches:\n",
    "    print(f\" - {integration} device found at {ip}\")"
   ],
   "id": "b7a8359da4eb5f1b",
   "outputs": [
    {
     "name": "stdout",
     "output_type": "stream",
     "text": [
      "Scanning 10.0.0.0/24...\n"
     ]
    },
    {
     "ename": "PermissionError",
     "evalue": "[Errno 1] Operation not permitted",
     "output_type": "error",
     "traceback": [
      "\u001B[31m---------------------------------------------------------------------------\u001B[39m",
      "\u001B[31mPermissionError\u001B[39m                           Traceback (most recent call last)",
      "\u001B[36mCell\u001B[39m\u001B[36m \u001B[39m\u001B[32mIn[2]\u001B[39m\u001B[32m, line 65\u001B[39m\n\u001B[32m     62\u001B[39m     \u001B[38;5;28;01mreturn\u001B[39;00m suggestions\n\u001B[32m     64\u001B[39m \u001B[38;5;66;03m# Run the script\u001B[39;00m\n\u001B[32m---> \u001B[39m\u001B[32m65\u001B[39m devices = \u001B[43mscan_network\u001B[49m\u001B[43m(\u001B[49m\u001B[43mTARGET_SUBNET\u001B[49m\u001B[43m)\u001B[49m\n\u001B[32m     66\u001B[39m print_devices(devices)\n\u001B[32m     68\u001B[39m ha_matches = suggest_ha_integrations(devices)\n",
      "\u001B[36mCell\u001B[39m\u001B[36m \u001B[39m\u001B[32mIn[2]\u001B[39m\u001B[32m, line 13\u001B[39m, in \u001B[36mscan_network\u001B[39m\u001B[34m(subnet)\u001B[39m\n\u001B[32m     11\u001B[39m ether = Ether(dst=\u001B[33m\"\u001B[39m\u001B[33mff:ff:ff:ff:ff:ff\u001B[39m\u001B[33m\"\u001B[39m)\n\u001B[32m     12\u001B[39m packet = ether/arp\n\u001B[32m---> \u001B[39m\u001B[32m13\u001B[39m result = \u001B[43msrp\u001B[49m\u001B[43m(\u001B[49m\u001B[43mpacket\u001B[49m\u001B[43m,\u001B[49m\u001B[43m \u001B[49m\u001B[43mtimeout\u001B[49m\u001B[43m=\u001B[49m\u001B[32;43m2\u001B[39;49m\u001B[43m,\u001B[49m\u001B[43m \u001B[49m\u001B[43mverbose\u001B[49m\u001B[43m=\u001B[49m\u001B[32;43m0\u001B[39;49m\u001B[43m)\u001B[49m[\u001B[32m0\u001B[39m]\n\u001B[32m     15\u001B[39m devices = []\n\u001B[32m     16\u001B[39m \u001B[38;5;28;01mfor\u001B[39;00m sent, received \u001B[38;5;129;01min\u001B[39;00m result:\n",
      "\u001B[36mFile \u001B[39m\u001B[32m~/work/.venv/lib/python3.11/site-packages/scapy/sendrecv.py:756\u001B[39m, in \u001B[36msrp\u001B[39m\u001B[34m(x, promisc, iface, iface_hint, filter, nofilter, type, *args, **kargs)\u001B[39m\n\u001B[32m    754\u001B[39m     iface = conf.route.route(iface_hint)[\u001B[32m0\u001B[39m]\n\u001B[32m    755\u001B[39m iface = resolve_iface(iface \u001B[38;5;129;01mor\u001B[39;00m conf.iface)\n\u001B[32m--> \u001B[39m\u001B[32m756\u001B[39m s = \u001B[43miface\u001B[49m\u001B[43m.\u001B[49m\u001B[43ml2socket\u001B[49m\u001B[43m(\u001B[49m\u001B[43m)\u001B[49m\u001B[43m(\u001B[49m\u001B[43mpromisc\u001B[49m\u001B[43m=\u001B[49m\u001B[43mpromisc\u001B[49m\u001B[43m,\u001B[49m\u001B[43m \u001B[49m\u001B[43miface\u001B[49m\u001B[43m=\u001B[49m\u001B[43miface\u001B[49m\u001B[43m,\u001B[49m\n\u001B[32m    757\u001B[39m \u001B[43m                     \u001B[49m\u001B[38;5;28;43mfilter\u001B[39;49m\u001B[43m=\u001B[49m\u001B[38;5;28;43mfilter\u001B[39;49m\u001B[43m,\u001B[49m\u001B[43m \u001B[49m\u001B[43mnofilter\u001B[49m\u001B[43m=\u001B[49m\u001B[43mnofilter\u001B[49m\u001B[43m,\u001B[49m\u001B[43m \u001B[49m\u001B[38;5;28;43mtype\u001B[39;49m\u001B[43m=\u001B[49m\u001B[38;5;28;43mtype\u001B[39;49m\u001B[43m)\u001B[49m\n\u001B[32m    758\u001B[39m result = sndrcv(s, x, *args, **kargs)\n\u001B[32m    759\u001B[39m s.close()\n",
      "\u001B[36mFile \u001B[39m\u001B[32m~/work/.venv/lib/python3.11/site-packages/scapy/arch/linux/__init__.py:218\u001B[39m, in \u001B[36mL2Socket.__init__\u001B[39m\u001B[34m(self, iface, type, promisc, filter, nofilter, monitor)\u001B[39m\n\u001B[32m    216\u001B[39m \u001B[38;5;28mself\u001B[39m.type = \u001B[38;5;28mtype\u001B[39m\n\u001B[32m    217\u001B[39m \u001B[38;5;28mself\u001B[39m.promisc = conf.sniff_promisc \u001B[38;5;28;01mif\u001B[39;00m promisc \u001B[38;5;129;01mis\u001B[39;00m \u001B[38;5;28;01mNone\u001B[39;00m \u001B[38;5;28;01melse\u001B[39;00m promisc\n\u001B[32m--> \u001B[39m\u001B[32m218\u001B[39m \u001B[38;5;28mself\u001B[39m.ins = \u001B[43msocket\u001B[49m\u001B[43m.\u001B[49m\u001B[43msocket\u001B[49m\u001B[43m(\u001B[49m\n\u001B[32m    219\u001B[39m \u001B[43m    \u001B[49m\u001B[43msocket\u001B[49m\u001B[43m.\u001B[49m\u001B[43mAF_PACKET\u001B[49m\u001B[43m,\u001B[49m\u001B[43m \u001B[49m\u001B[43msocket\u001B[49m\u001B[43m.\u001B[49m\u001B[43mSOCK_RAW\u001B[49m\u001B[43m,\u001B[49m\u001B[43m \u001B[49m\u001B[43msocket\u001B[49m\u001B[43m.\u001B[49m\u001B[43mhtons\u001B[49m\u001B[43m(\u001B[49m\u001B[38;5;28;43mtype\u001B[39;49m\u001B[43m)\u001B[49m\u001B[43m)\u001B[49m\n\u001B[32m    220\u001B[39m \u001B[38;5;28mself\u001B[39m.ins.setsockopt(socket.SOL_SOCKET, socket.SO_RCVBUF, \u001B[32m0\u001B[39m)\n\u001B[32m    221\u001B[39m \u001B[38;5;28;01mif\u001B[39;00m \u001B[38;5;129;01mnot\u001B[39;00m nofilter:\n",
      "\u001B[36mFile \u001B[39m\u001B[32m/opt/conda/lib/python3.11/socket.py:232\u001B[39m, in \u001B[36msocket.__init__\u001B[39m\u001B[34m(self, family, type, proto, fileno)\u001B[39m\n\u001B[32m    230\u001B[39m     \u001B[38;5;28;01mif\u001B[39;00m proto == -\u001B[32m1\u001B[39m:\n\u001B[32m    231\u001B[39m         proto = \u001B[32m0\u001B[39m\n\u001B[32m--> \u001B[39m\u001B[32m232\u001B[39m \u001B[43m_socket\u001B[49m\u001B[43m.\u001B[49m\u001B[43msocket\u001B[49m\u001B[43m.\u001B[49m\u001B[34;43m__init__\u001B[39;49m\u001B[43m(\u001B[49m\u001B[38;5;28;43mself\u001B[39;49m\u001B[43m,\u001B[49m\u001B[43m \u001B[49m\u001B[43mfamily\u001B[49m\u001B[43m,\u001B[49m\u001B[43m \u001B[49m\u001B[38;5;28;43mtype\u001B[39;49m\u001B[43m,\u001B[49m\u001B[43m \u001B[49m\u001B[43mproto\u001B[49m\u001B[43m,\u001B[49m\u001B[43m \u001B[49m\u001B[43mfileno\u001B[49m\u001B[43m)\u001B[49m\n\u001B[32m    233\u001B[39m \u001B[38;5;28mself\u001B[39m._io_refs = \u001B[32m0\u001B[39m\n\u001B[32m    234\u001B[39m \u001B[38;5;28mself\u001B[39m._closed = \u001B[38;5;28;01mFalse\u001B[39;00m\n",
      "\u001B[31mPermissionError\u001B[39m: [Errno 1] Operation not permitted"
     ]
    }
   ],
   "execution_count": 2
  },
  {
   "metadata": {},
   "cell_type": "code",
   "outputs": [],
   "execution_count": null,
   "source": "",
   "id": "1f7a539a8df724a8"
  }
 ],
 "metadata": {
  "kernelspec": {
   "display_name": "Python (quality)",
   "language": "python",
   "name": "quality"
  },
  "language_info": {
   "codemirror_mode": {
    "name": "ipython",
    "version": 2
   },
   "file_extension": ".py",
   "mimetype": "text/x-python",
   "name": "python",
   "nbconvert_exporter": "python",
   "pygments_lexer": "ipython2",
   "version": "2.7.6"
  }
 },
 "nbformat": 4,
 "nbformat_minor": 5
}
